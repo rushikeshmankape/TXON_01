{
 "cells": [
  {
   "cell_type": "code",
   "execution_count": 2,
   "id": "13b0638a",
   "metadata": {},
   "outputs": [
    {
     "ename": "error",
     "evalue": "OpenCV(4.7.0) D:\\a\\opencv-python\\opencv-python\\opencv\\modules\\dnn\\src\\caffe\\caffe_io.cpp:1126: error: (-2:Unspecified error) FAILED: fs.is_open(). Can't open \"model\\colorization_deploy_v2.prototxt\" in function 'cv::dnn::ReadProtoFromTextFile'\n",
     "output_type": "error",
     "traceback": [
      "\u001b[1;31m---------------------------------------------------------------------------\u001b[0m",
      "\u001b[1;31merror\u001b[0m                                     Traceback (most recent call last)",
      "\u001b[1;32m<ipython-input-2-c75dc5a78d3d>\u001b[0m in \u001b[0;36m<module>\u001b[1;34m\u001b[0m\n\u001b[0;32m     10\u001b[0m \u001b[1;33m\u001b[0m\u001b[0m\n\u001b[0;32m     11\u001b[0m \u001b[1;33m\u001b[0m\u001b[0m\n\u001b[1;32m---> 12\u001b[1;33m \u001b[0mnet\u001b[0m \u001b[1;33m=\u001b[0m \u001b[0mdnn\u001b[0m\u001b[1;33m.\u001b[0m\u001b[0mreadNetFromCaffe\u001b[0m\u001b[1;33m(\u001b[0m\u001b[0mproto_file\u001b[0m\u001b[1;33m,\u001b[0m\u001b[0mmodel_file\u001b[0m\u001b[1;33m)\u001b[0m\u001b[1;33m\u001b[0m\u001b[1;33m\u001b[0m\u001b[0m\n\u001b[0m\u001b[0;32m     13\u001b[0m \u001b[0mkernel\u001b[0m \u001b[1;33m=\u001b[0m \u001b[0mnp\u001b[0m\u001b[1;33m.\u001b[0m\u001b[0mload\u001b[0m\u001b[1;33m(\u001b[0m\u001b[0mhull_pts\u001b[0m\u001b[1;33m)\u001b[0m\u001b[1;33m\u001b[0m\u001b[1;33m\u001b[0m\u001b[0m\n\u001b[0;32m     14\u001b[0m \u001b[1;33m\u001b[0m\u001b[0m\n",
      "\u001b[1;31merror\u001b[0m: OpenCV(4.7.0) D:\\a\\opencv-python\\opencv-python\\opencv\\modules\\dnn\\src\\caffe\\caffe_io.cpp:1126: error: (-2:Unspecified error) FAILED: fs.is_open(). Can't open \"model\\colorization_deploy_v2.prototxt\" in function 'cv::dnn::ReadProtoFromTextFile'\n"
     ]
    }
   ],
   "source": [
    "import numpy as np\n",
    "import cv2\n",
    "from cv2 import dnn\n",
    "\n",
    "\n",
    "proto_file = 'model\\colorization_deploy_v2.prototxt'\n",
    "model_file = 'model\\colorization_release_v2.caffemodel'\n",
    "hull_pts = 'model\\pts_in_hull.npy'\n",
    "img_path = 'input/flower2.jpg'\n",
    "\n",
    "\n",
    "net = dnn.readNetFromCaffe(proto_file,model_file)\n",
    "kernel = np.load(hull_pts)\n",
    "\n",
    "\n",
    "\n",
    "img = cv2.imread(img_path)\n",
    "scaled = img.astype(\"float32\") / 255.0\n",
    "lab_img = cv2.cvtColor(scaled, cv2.COLOR_BGR2LAB)\n",
    "\n",
    "class8 = net.getLayerId(\"class8_ab\")\n",
    "conv8 = net.getLayerId(\"conv8_313_rh\")\n",
    "pts = kernel.transpose().reshape(2, 313, 1, 1)\n",
    "net.getLayer(class8).blobs = [pts.astype(\"float32\")]\n",
    "net.getLayer(conv8).blobs = [np.full([1, 313], 2.606, dtype=\"float32\")]\n",
    "\n",
    "\n",
    "\n",
    "resized = cv2.resize(lab_img, (224, 224))\n",
    "\n",
    "L = cv2.split(resized)[0]\n",
    "\n",
    "L -= 50\n",
    "\n",
    "\n",
    "net.setInput(cv2.dnn.blobFromImage(L))\n",
    "ab_channel = net.forward()[0, :, :, :].transpose((1, 2, 0))\n",
    "\n",
    "ab_channel = cv2.resize(ab_channel, (img.shape[1], img.shape[0]))\n",
    "\n",
    "\n",
    "L = cv2.split(lab_img)[0]\n",
    "\n",
    "colorized = np.concatenate((L[:, :, np.newaxis], ab_channel), axis=2)\n",
    "\n",
    "\n",
    "colorized = cv2.cvtColor(colorized, cv2.COLOR_LAB2BGR)\n",
    "colorized = np.clip(colorized, 0, 1)\n",
    "\n",
    "\n",
    "colorized = (255 * colorized).astype(\"uint8\")\n",
    "\n",
    "img = cv2.resize(img,(640,640))\n",
    "colorized = cv2.resize(colorized,(640,640))\n",
    "\n",
    "result = cv2.hconcat([img,colorized])\n",
    "\n",
    "cv2.imshow(\"Grayscale -> Colour\", result)\n",
    "\n",
    "cv2.waitKey(0)\n"
   ]
  },
  {
   "cell_type": "code",
   "execution_count": null,
   "id": "c2672d46",
   "metadata": {},
   "outputs": [],
   "source": []
  }
 ],
 "metadata": {
  "kernelspec": {
   "display_name": "Python 3",
   "language": "python",
   "name": "python3"
  },
  "language_info": {
   "codemirror_mode": {
    "name": "ipython",
    "version": 3
   },
   "file_extension": ".py",
   "mimetype": "text/x-python",
   "name": "python",
   "nbconvert_exporter": "python",
   "pygments_lexer": "ipython3",
   "version": "3.8.8"
  }
 },
 "nbformat": 4,
 "nbformat_minor": 5
}
